{
  "cells": [
    {
      "cell_type": "markdown",
      "metadata": {
        "id": "view-in-github",
        "colab_type": "text"
      },
      "source": [
        "<a href=\"https://colab.research.google.com/github/arturoliduena/cifar10-image-recognition/blob/main/versions/cnn_cifar10_tf2_v9.ipynb\" target=\"_parent\"><img src=\"https://colab.research.google.com/assets/colab-badge.svg\" alt=\"Open In Colab\"/></a>"
      ]
    },
    {
      "cell_type": "markdown",
      "metadata": {
        "id": "dWY7kSPW9oJm"
      },
      "source": [
        "![Nuclio logo](https://nuclio.school/wp-content/uploads/2018/12/nucleoDS-newBlack.png)"
      ]
    },
    {
      "cell_type": "markdown",
      "metadata": {
        "id": "e5awq5ZU9oJn",
        "tags": []
      },
      "source": [
        "## 1. Librerias & Google Drive\n",
        "\n",
        "Para empezar carguemos esas librerias que nos hacen falta"
      ]
    },
    {
      "cell_type": "code",
      "execution_count": 1,
      "metadata": {
        "id": "6e89W2u_9oJo"
      },
      "outputs": [],
      "source": [
        "from tensorflow import keras as ks\n",
        "from matplotlib import pyplot as plt\n",
        "import numpy as np\n",
        "import time\n",
        "import datetime\n",
        "from tensorflow.keras.preprocessing.image import ImageDataGenerator\n",
        "from tensorflow.keras.callbacks import EarlyStopping\n",
        "import random\n",
        "import os\n",
        "import tensorflow as tf\n",
        "from tensorflow.keras.applications import vgg16\n",
        "from tensorflow.keras.models import Model\n",
        "import pandas as pd"
      ]
    },
    {
      "cell_type": "markdown",
      "source": [
        "Incorporamos la carpeta de Google Drive para poder \"guardar\" nuestros modelos\n",
        "\n",
        "1. Abrir barra lateral de Carpeta\n",
        "2.  Hacer click en carpeta con logo de Google Drive\n"
      ],
      "metadata": {
        "id": "G9YqEs4v-hiO"
      }
    },
    {
      "cell_type": "code",
      "source": [
        "# Aquí iria el codigo para conectarse a Google Drive\n",
        "from google.colab import drive\n",
        "drive.mount('/content/drive')"
      ],
      "metadata": {
        "id": "DH4FxJRv_KLM",
        "colab": {
          "base_uri": "https://localhost:8080/"
        },
        "outputId": "3d9ebd2e-ae90-4a0b-b030-e90b756f65e1"
      },
      "execution_count": 2,
      "outputs": [
        {
          "output_type": "stream",
          "name": "stdout",
          "text": [
            "Mounted at /content/drive\n"
          ]
        }
      ]
    },
    {
      "cell_type": "markdown",
      "source": [
        "**Montamos modelo**"
      ],
      "metadata": {
        "id": "rXciaX8JvXph"
      }
    },
    {
      "cell_type": "code",
      "source": [
        "initializer = ks.initializers.he_normal()\n",
        "input_tensor = ks.Input(shape=(32, 32, 3))\n",
        "resized_images = ks.layers.Lambda(lambda image: tf.image.resize(image, (224, 224)))(input_tensor)\n"
      ],
      "metadata": {
        "id": "vDPaHukXvcNi"
      },
      "execution_count": 3,
      "outputs": []
    },
    {
      "cell_type": "code",
      "source": [
        "vgg = vgg16.VGG16(include_top=False, weights=\"imagenet\",input_shape=(224, 224,3),input_tensor=resized_images)"
      ],
      "metadata": {
        "id": "LQRDXOfavlpm",
        "colab": {
          "base_uri": "https://localhost:8080/"
        },
        "outputId": "dc8185ee-bc48-45ce-83a1-69f31b5ef835"
      },
      "execution_count": 4,
      "outputs": [
        {
          "output_type": "stream",
          "name": "stdout",
          "text": [
            "Downloading data from https://storage.googleapis.com/tensorflow/keras-applications/vgg16/vgg16_weights_tf_dim_ordering_tf_kernels_notop.h5\n",
            "58892288/58889256 [==============================] - 2s 0us/step\n",
            "58900480/58889256 [==============================] - 2s 0us/step\n"
          ]
        }
      ]
    },
    {
      "cell_type": "code",
      "source": [
        "vgg.summary()"
      ],
      "metadata": {
        "colab": {
          "base_uri": "https://localhost:8080/"
        },
        "id": "dncXN1KUvrm1",
        "outputId": "d25041f5-dc1b-4777-e0f2-04f7751384de"
      },
      "execution_count": 5,
      "outputs": [
        {
          "output_type": "stream",
          "name": "stdout",
          "text": [
            "Model: \"vgg16\"\n",
            "_________________________________________________________________\n",
            " Layer (type)                Output Shape              Param #   \n",
            "=================================================================\n",
            " input_1 (InputLayer)        [(None, 32, 32, 3)]       0         \n",
            "                                                                 \n",
            " lambda (Lambda)             (None, 224, 224, 3)       0         \n",
            "                                                                 \n",
            " block1_conv1 (Conv2D)       (None, 224, 224, 64)      1792      \n",
            "                                                                 \n",
            " block1_conv2 (Conv2D)       (None, 224, 224, 64)      36928     \n",
            "                                                                 \n",
            " block1_pool (MaxPooling2D)  (None, 112, 112, 64)      0         \n",
            "                                                                 \n",
            " block2_conv1 (Conv2D)       (None, 112, 112, 128)     73856     \n",
            "                                                                 \n",
            " block2_conv2 (Conv2D)       (None, 112, 112, 128)     147584    \n",
            "                                                                 \n",
            " block2_pool (MaxPooling2D)  (None, 56, 56, 128)       0         \n",
            "                                                                 \n",
            " block3_conv1 (Conv2D)       (None, 56, 56, 256)       295168    \n",
            "                                                                 \n",
            " block3_conv2 (Conv2D)       (None, 56, 56, 256)       590080    \n",
            "                                                                 \n",
            " block3_conv3 (Conv2D)       (None, 56, 56, 256)       590080    \n",
            "                                                                 \n",
            " block3_pool (MaxPooling2D)  (None, 28, 28, 256)       0         \n",
            "                                                                 \n",
            " block4_conv1 (Conv2D)       (None, 28, 28, 512)       1180160   \n",
            "                                                                 \n",
            " block4_conv2 (Conv2D)       (None, 28, 28, 512)       2359808   \n",
            "                                                                 \n",
            " block4_conv3 (Conv2D)       (None, 28, 28, 512)       2359808   \n",
            "                                                                 \n",
            " block4_pool (MaxPooling2D)  (None, 14, 14, 512)       0         \n",
            "                                                                 \n",
            " block5_conv1 (Conv2D)       (None, 14, 14, 512)       2359808   \n",
            "                                                                 \n",
            " block5_conv2 (Conv2D)       (None, 14, 14, 512)       2359808   \n",
            "                                                                 \n",
            " block5_conv3 (Conv2D)       (None, 14, 14, 512)       2359808   \n",
            "                                                                 \n",
            " block5_pool (MaxPooling2D)  (None, 7, 7, 512)         0         \n",
            "                                                                 \n",
            "=================================================================\n",
            "Total params: 14,714,688\n",
            "Trainable params: 14,714,688\n",
            "Non-trainable params: 0\n",
            "_________________________________________________________________\n"
          ]
        }
      ]
    },
    {
      "cell_type": "code",
      "source": [
        "output = vgg.layers[-1].output\n",
        "new_output_layer = ks.layers.Flatten()(output)\n",
        "vgg_model = Model(vgg.input, new_output_layer)"
      ],
      "metadata": {
        "id": "m1x6jbgbvzIC"
      },
      "execution_count": 6,
      "outputs": []
    },
    {
      "cell_type": "code",
      "source": [
        "vgg_model.summary() "
      ],
      "metadata": {
        "colab": {
          "base_uri": "https://localhost:8080/"
        },
        "id": "BHPQINsVTB0G",
        "outputId": "c21caeff-433a-4aa6-9c4b-887d229b4bd8"
      },
      "execution_count": 7,
      "outputs": [
        {
          "output_type": "stream",
          "name": "stdout",
          "text": [
            "Model: \"model\"\n",
            "_________________________________________________________________\n",
            " Layer (type)                Output Shape              Param #   \n",
            "=================================================================\n",
            " input_1 (InputLayer)        [(None, 32, 32, 3)]       0         \n",
            "                                                                 \n",
            " lambda (Lambda)             (None, 224, 224, 3)       0         \n",
            "                                                                 \n",
            " block1_conv1 (Conv2D)       (None, 224, 224, 64)      1792      \n",
            "                                                                 \n",
            " block1_conv2 (Conv2D)       (None, 224, 224, 64)      36928     \n",
            "                                                                 \n",
            " block1_pool (MaxPooling2D)  (None, 112, 112, 64)      0         \n",
            "                                                                 \n",
            " block2_conv1 (Conv2D)       (None, 112, 112, 128)     73856     \n",
            "                                                                 \n",
            " block2_conv2 (Conv2D)       (None, 112, 112, 128)     147584    \n",
            "                                                                 \n",
            " block2_pool (MaxPooling2D)  (None, 56, 56, 128)       0         \n",
            "                                                                 \n",
            " block3_conv1 (Conv2D)       (None, 56, 56, 256)       295168    \n",
            "                                                                 \n",
            " block3_conv2 (Conv2D)       (None, 56, 56, 256)       590080    \n",
            "                                                                 \n",
            " block3_conv3 (Conv2D)       (None, 56, 56, 256)       590080    \n",
            "                                                                 \n",
            " block3_pool (MaxPooling2D)  (None, 28, 28, 256)       0         \n",
            "                                                                 \n",
            " block4_conv1 (Conv2D)       (None, 28, 28, 512)       1180160   \n",
            "                                                                 \n",
            " block4_conv2 (Conv2D)       (None, 28, 28, 512)       2359808   \n",
            "                                                                 \n",
            " block4_conv3 (Conv2D)       (None, 28, 28, 512)       2359808   \n",
            "                                                                 \n",
            " block4_pool (MaxPooling2D)  (None, 14, 14, 512)       0         \n",
            "                                                                 \n",
            " block5_conv1 (Conv2D)       (None, 14, 14, 512)       2359808   \n",
            "                                                                 \n",
            " block5_conv2 (Conv2D)       (None, 14, 14, 512)       2359808   \n",
            "                                                                 \n",
            " block5_conv3 (Conv2D)       (None, 14, 14, 512)       2359808   \n",
            "                                                                 \n",
            " block5_pool (MaxPooling2D)  (None, 7, 7, 512)         0         \n",
            "                                                                 \n",
            " flatten (Flatten)           (None, 25088)             0         \n",
            "                                                                 \n",
            "=================================================================\n",
            "Total params: 14,714,688\n",
            "Trainable params: 14,714,688\n",
            "Non-trainable params: 0\n",
            "_________________________________________________________________\n"
          ]
        }
      ]
    },
    {
      "cell_type": "code",
      "source": [
        "print(vgg_model.trainable)   "
      ],
      "metadata": {
        "colab": {
          "base_uri": "https://localhost:8080/"
        },
        "id": "3i8OU8-Iv16G",
        "outputId": "fa32dce7-21f8-4713-f6ac-4b9e65f6759d"
      },
      "execution_count": 8,
      "outputs": [
        {
          "output_type": "stream",
          "name": "stdout",
          "text": [
            "True\n"
          ]
        }
      ]
    },
    {
      "cell_type": "code",
      "source": [
        "pd.set_option('max_colwidth', None) \n",
        "layers= [(layer, layer.name, layer.trainable) for layer in vgg_model.layers]\n",
        "pd.DataFrame(layers, columns=['Layer type','Name', 'Trainable?'])"
      ],
      "metadata": {
        "colab": {
          "base_uri": "https://localhost:8080/",
          "height": 708
        },
        "id": "8Q8jImy0v5lW",
        "outputId": "2f63f21b-e5a2-4d74-c5ab-6abf30eabfa7"
      },
      "execution_count": 9,
      "outputs": [
        {
          "output_type": "execute_result",
          "data": {
            "text/plain": [
              "                                                          Layer type  \\\n",
              "0     <keras.engine.input_layer.InputLayer object at 0x7fc201958b50>   \n",
              "1   <keras.layers.core.lambda_layer.Lambda object at 0x7fc201973150>   \n",
              "2       <keras.layers.convolutional.Conv2D object at 0x7fc2849ed550>   \n",
              "3       <keras.layers.convolutional.Conv2D object at 0x7fc201921ad0>   \n",
              "4       <keras.layers.pooling.MaxPooling2D object at 0x7fc201085850>   \n",
              "5       <keras.layers.convolutional.Conv2D object at 0x7fc1f0398250>   \n",
              "6       <keras.layers.convolutional.Conv2D object at 0x7fc204eb8b50>   \n",
              "7       <keras.layers.pooling.MaxPooling2D object at 0x7fc1f03a1a50>   \n",
              "8       <keras.layers.convolutional.Conv2D object at 0x7fc1f039d690>   \n",
              "9       <keras.layers.convolutional.Conv2D object at 0x7fc1f03967d0>   \n",
              "10      <keras.layers.convolutional.Conv2D object at 0x7fc1f0330750>   \n",
              "11      <keras.layers.pooling.MaxPooling2D object at 0x7fc1f03a9690>   \n",
              "12      <keras.layers.convolutional.Conv2D object at 0x7fc1f0338510>   \n",
              "13      <keras.layers.convolutional.Conv2D object at 0x7fc1f0341110>   \n",
              "14      <keras.layers.convolutional.Conv2D object at 0x7fc1f0345ed0>   \n",
              "15      <keras.layers.pooling.MaxPooling2D object at 0x7fc1f0333d90>   \n",
              "16      <keras.layers.convolutional.Conv2D object at 0x7fc1f034d290>   \n",
              "17      <keras.layers.convolutional.Conv2D object at 0x7fc1f0354e50>   \n",
              "18      <keras.layers.convolutional.Conv2D object at 0x7fc202da9c90>   \n",
              "19      <keras.layers.pooling.MaxPooling2D object at 0x7fc1f035f7d0>   \n",
              "20      <keras.layers.core.flatten.Flatten object at 0x7fc282b64490>   \n",
              "\n",
              "            Name  Trainable?  \n",
              "0        input_1        True  \n",
              "1         lambda        True  \n",
              "2   block1_conv1        True  \n",
              "3   block1_conv2        True  \n",
              "4    block1_pool        True  \n",
              "5   block2_conv1        True  \n",
              "6   block2_conv2        True  \n",
              "7    block2_pool        True  \n",
              "8   block3_conv1        True  \n",
              "9   block3_conv2        True  \n",
              "10  block3_conv3        True  \n",
              "11   block3_pool        True  \n",
              "12  block4_conv1        True  \n",
              "13  block4_conv2        True  \n",
              "14  block4_conv3        True  \n",
              "15   block4_pool        True  \n",
              "16  block5_conv1        True  \n",
              "17  block5_conv2        True  \n",
              "18  block5_conv3        True  \n",
              "19   block5_pool        True  \n",
              "20       flatten        True  "
            ],
            "text/html": [
              "\n",
              "  <div id=\"df-aefbda84-b23a-4137-a6bc-d63dd84ce3e3\">\n",
              "    <div class=\"colab-df-container\">\n",
              "      <div>\n",
              "<style scoped>\n",
              "    .dataframe tbody tr th:only-of-type {\n",
              "        vertical-align: middle;\n",
              "    }\n",
              "\n",
              "    .dataframe tbody tr th {\n",
              "        vertical-align: top;\n",
              "    }\n",
              "\n",
              "    .dataframe thead th {\n",
              "        text-align: right;\n",
              "    }\n",
              "</style>\n",
              "<table border=\"1\" class=\"dataframe\">\n",
              "  <thead>\n",
              "    <tr style=\"text-align: right;\">\n",
              "      <th></th>\n",
              "      <th>Layer type</th>\n",
              "      <th>Name</th>\n",
              "      <th>Trainable?</th>\n",
              "    </tr>\n",
              "  </thead>\n",
              "  <tbody>\n",
              "    <tr>\n",
              "      <th>0</th>\n",
              "      <td>&lt;keras.engine.input_layer.InputLayer object at 0x7fc201958b50&gt;</td>\n",
              "      <td>input_1</td>\n",
              "      <td>True</td>\n",
              "    </tr>\n",
              "    <tr>\n",
              "      <th>1</th>\n",
              "      <td>&lt;keras.layers.core.lambda_layer.Lambda object at 0x7fc201973150&gt;</td>\n",
              "      <td>lambda</td>\n",
              "      <td>True</td>\n",
              "    </tr>\n",
              "    <tr>\n",
              "      <th>2</th>\n",
              "      <td>&lt;keras.layers.convolutional.Conv2D object at 0x7fc2849ed550&gt;</td>\n",
              "      <td>block1_conv1</td>\n",
              "      <td>True</td>\n",
              "    </tr>\n",
              "    <tr>\n",
              "      <th>3</th>\n",
              "      <td>&lt;keras.layers.convolutional.Conv2D object at 0x7fc201921ad0&gt;</td>\n",
              "      <td>block1_conv2</td>\n",
              "      <td>True</td>\n",
              "    </tr>\n",
              "    <tr>\n",
              "      <th>4</th>\n",
              "      <td>&lt;keras.layers.pooling.MaxPooling2D object at 0x7fc201085850&gt;</td>\n",
              "      <td>block1_pool</td>\n",
              "      <td>True</td>\n",
              "    </tr>\n",
              "    <tr>\n",
              "      <th>5</th>\n",
              "      <td>&lt;keras.layers.convolutional.Conv2D object at 0x7fc1f0398250&gt;</td>\n",
              "      <td>block2_conv1</td>\n",
              "      <td>True</td>\n",
              "    </tr>\n",
              "    <tr>\n",
              "      <th>6</th>\n",
              "      <td>&lt;keras.layers.convolutional.Conv2D object at 0x7fc204eb8b50&gt;</td>\n",
              "      <td>block2_conv2</td>\n",
              "      <td>True</td>\n",
              "    </tr>\n",
              "    <tr>\n",
              "      <th>7</th>\n",
              "      <td>&lt;keras.layers.pooling.MaxPooling2D object at 0x7fc1f03a1a50&gt;</td>\n",
              "      <td>block2_pool</td>\n",
              "      <td>True</td>\n",
              "    </tr>\n",
              "    <tr>\n",
              "      <th>8</th>\n",
              "      <td>&lt;keras.layers.convolutional.Conv2D object at 0x7fc1f039d690&gt;</td>\n",
              "      <td>block3_conv1</td>\n",
              "      <td>True</td>\n",
              "    </tr>\n",
              "    <tr>\n",
              "      <th>9</th>\n",
              "      <td>&lt;keras.layers.convolutional.Conv2D object at 0x7fc1f03967d0&gt;</td>\n",
              "      <td>block3_conv2</td>\n",
              "      <td>True</td>\n",
              "    </tr>\n",
              "    <tr>\n",
              "      <th>10</th>\n",
              "      <td>&lt;keras.layers.convolutional.Conv2D object at 0x7fc1f0330750&gt;</td>\n",
              "      <td>block3_conv3</td>\n",
              "      <td>True</td>\n",
              "    </tr>\n",
              "    <tr>\n",
              "      <th>11</th>\n",
              "      <td>&lt;keras.layers.pooling.MaxPooling2D object at 0x7fc1f03a9690&gt;</td>\n",
              "      <td>block3_pool</td>\n",
              "      <td>True</td>\n",
              "    </tr>\n",
              "    <tr>\n",
              "      <th>12</th>\n",
              "      <td>&lt;keras.layers.convolutional.Conv2D object at 0x7fc1f0338510&gt;</td>\n",
              "      <td>block4_conv1</td>\n",
              "      <td>True</td>\n",
              "    </tr>\n",
              "    <tr>\n",
              "      <th>13</th>\n",
              "      <td>&lt;keras.layers.convolutional.Conv2D object at 0x7fc1f0341110&gt;</td>\n",
              "      <td>block4_conv2</td>\n",
              "      <td>True</td>\n",
              "    </tr>\n",
              "    <tr>\n",
              "      <th>14</th>\n",
              "      <td>&lt;keras.layers.convolutional.Conv2D object at 0x7fc1f0345ed0&gt;</td>\n",
              "      <td>block4_conv3</td>\n",
              "      <td>True</td>\n",
              "    </tr>\n",
              "    <tr>\n",
              "      <th>15</th>\n",
              "      <td>&lt;keras.layers.pooling.MaxPooling2D object at 0x7fc1f0333d90&gt;</td>\n",
              "      <td>block4_pool</td>\n",
              "      <td>True</td>\n",
              "    </tr>\n",
              "    <tr>\n",
              "      <th>16</th>\n",
              "      <td>&lt;keras.layers.convolutional.Conv2D object at 0x7fc1f034d290&gt;</td>\n",
              "      <td>block5_conv1</td>\n",
              "      <td>True</td>\n",
              "    </tr>\n",
              "    <tr>\n",
              "      <th>17</th>\n",
              "      <td>&lt;keras.layers.convolutional.Conv2D object at 0x7fc1f0354e50&gt;</td>\n",
              "      <td>block5_conv2</td>\n",
              "      <td>True</td>\n",
              "    </tr>\n",
              "    <tr>\n",
              "      <th>18</th>\n",
              "      <td>&lt;keras.layers.convolutional.Conv2D object at 0x7fc202da9c90&gt;</td>\n",
              "      <td>block5_conv3</td>\n",
              "      <td>True</td>\n",
              "    </tr>\n",
              "    <tr>\n",
              "      <th>19</th>\n",
              "      <td>&lt;keras.layers.pooling.MaxPooling2D object at 0x7fc1f035f7d0&gt;</td>\n",
              "      <td>block5_pool</td>\n",
              "      <td>True</td>\n",
              "    </tr>\n",
              "    <tr>\n",
              "      <th>20</th>\n",
              "      <td>&lt;keras.layers.core.flatten.Flatten object at 0x7fc282b64490&gt;</td>\n",
              "      <td>flatten</td>\n",
              "      <td>True</td>\n",
              "    </tr>\n",
              "  </tbody>\n",
              "</table>\n",
              "</div>\n",
              "      <button class=\"colab-df-convert\" onclick=\"convertToInteractive('df-aefbda84-b23a-4137-a6bc-d63dd84ce3e3')\"\n",
              "              title=\"Convert this dataframe to an interactive table.\"\n",
              "              style=\"display:none;\">\n",
              "        \n",
              "  <svg xmlns=\"http://www.w3.org/2000/svg\" height=\"24px\"viewBox=\"0 0 24 24\"\n",
              "       width=\"24px\">\n",
              "    <path d=\"M0 0h24v24H0V0z\" fill=\"none\"/>\n",
              "    <path d=\"M18.56 5.44l.94 2.06.94-2.06 2.06-.94-2.06-.94-.94-2.06-.94 2.06-2.06.94zm-11 1L8.5 8.5l.94-2.06 2.06-.94-2.06-.94L8.5 2.5l-.94 2.06-2.06.94zm10 10l.94 2.06.94-2.06 2.06-.94-2.06-.94-.94-2.06-.94 2.06-2.06.94z\"/><path d=\"M17.41 7.96l-1.37-1.37c-.4-.4-.92-.59-1.43-.59-.52 0-1.04.2-1.43.59L10.3 9.45l-7.72 7.72c-.78.78-.78 2.05 0 2.83L4 21.41c.39.39.9.59 1.41.59.51 0 1.02-.2 1.41-.59l7.78-7.78 2.81-2.81c.8-.78.8-2.07 0-2.86zM5.41 20L4 18.59l7.72-7.72 1.47 1.35L5.41 20z\"/>\n",
              "  </svg>\n",
              "      </button>\n",
              "      \n",
              "  <style>\n",
              "    .colab-df-container {\n",
              "      display:flex;\n",
              "      flex-wrap:wrap;\n",
              "      gap: 12px;\n",
              "    }\n",
              "\n",
              "    .colab-df-convert {\n",
              "      background-color: #E8F0FE;\n",
              "      border: none;\n",
              "      border-radius: 50%;\n",
              "      cursor: pointer;\n",
              "      display: none;\n",
              "      fill: #1967D2;\n",
              "      height: 32px;\n",
              "      padding: 0 0 0 0;\n",
              "      width: 32px;\n",
              "    }\n",
              "\n",
              "    .colab-df-convert:hover {\n",
              "      background-color: #E2EBFA;\n",
              "      box-shadow: 0px 1px 2px rgba(60, 64, 67, 0.3), 0px 1px 3px 1px rgba(60, 64, 67, 0.15);\n",
              "      fill: #174EA6;\n",
              "    }\n",
              "\n",
              "    [theme=dark] .colab-df-convert {\n",
              "      background-color: #3B4455;\n",
              "      fill: #D2E3FC;\n",
              "    }\n",
              "\n",
              "    [theme=dark] .colab-df-convert:hover {\n",
              "      background-color: #434B5C;\n",
              "      box-shadow: 0px 1px 3px 1px rgba(0, 0, 0, 0.15);\n",
              "      filter: drop-shadow(0px 1px 2px rgba(0, 0, 0, 0.3));\n",
              "      fill: #FFFFFF;\n",
              "    }\n",
              "  </style>\n",
              "\n",
              "      <script>\n",
              "        const buttonEl =\n",
              "          document.querySelector('#df-aefbda84-b23a-4137-a6bc-d63dd84ce3e3 button.colab-df-convert');\n",
              "        buttonEl.style.display =\n",
              "          google.colab.kernel.accessAllowed ? 'block' : 'none';\n",
              "\n",
              "        async function convertToInteractive(key) {\n",
              "          const element = document.querySelector('#df-aefbda84-b23a-4137-a6bc-d63dd84ce3e3');\n",
              "          const dataTable =\n",
              "            await google.colab.kernel.invokeFunction('convertToInteractive',\n",
              "                                                     [key], {});\n",
              "          if (!dataTable) return;\n",
              "\n",
              "          const docLinkHtml = 'Like what you see? Visit the ' +\n",
              "            '<a target=\"_blank\" href=https://colab.research.google.com/notebooks/data_table.ipynb>data table notebook</a>'\n",
              "            + ' to learn more about interactive tables.';\n",
              "          element.innerHTML = '';\n",
              "          dataTable['output_type'] = 'display_data';\n",
              "          await google.colab.output.renderOutput(dataTable, element);\n",
              "          const docLink = document.createElement('div');\n",
              "          docLink.innerHTML = docLinkHtml;\n",
              "          element.appendChild(docLink);\n",
              "        }\n",
              "      </script>\n",
              "    </div>\n",
              "  </div>\n",
              "  "
            ]
          },
          "metadata": {},
          "execution_count": 9
        }
      ]
    },
    {
      "cell_type": "code",
      "source": [
        "flag_trainable = False\n",
        "\n",
        "for layer in vgg_model.layers:\n",
        "  if layer.name == 'block4_conv1':\n",
        "    flag_trainable = True\n",
        "  layer.trainable = flag_trainable"
      ],
      "metadata": {
        "id": "A-7_R7t5TLos"
      },
      "execution_count": 10,
      "outputs": []
    },
    {
      "cell_type": "code",
      "source": [
        "layers= [(layer, layer.name, layer.trainable) for layer in vgg_model.layers]\n",
        "pd.DataFrame(layers, columns=['Layer type','Name', 'Trainable?'])"
      ],
      "metadata": {
        "colab": {
          "base_uri": "https://localhost:8080/",
          "height": 708
        },
        "id": "RwblDzpvTOee",
        "outputId": "3471b6b9-47d2-4752-c592-97e163040a61"
      },
      "execution_count": 11,
      "outputs": [
        {
          "output_type": "execute_result",
          "data": {
            "text/plain": [
              "                                                          Layer type  \\\n",
              "0     <keras.engine.input_layer.InputLayer object at 0x7fc201958b50>   \n",
              "1   <keras.layers.core.lambda_layer.Lambda object at 0x7fc201973150>   \n",
              "2       <keras.layers.convolutional.Conv2D object at 0x7fc2849ed550>   \n",
              "3       <keras.layers.convolutional.Conv2D object at 0x7fc201921ad0>   \n",
              "4       <keras.layers.pooling.MaxPooling2D object at 0x7fc201085850>   \n",
              "5       <keras.layers.convolutional.Conv2D object at 0x7fc1f0398250>   \n",
              "6       <keras.layers.convolutional.Conv2D object at 0x7fc204eb8b50>   \n",
              "7       <keras.layers.pooling.MaxPooling2D object at 0x7fc1f03a1a50>   \n",
              "8       <keras.layers.convolutional.Conv2D object at 0x7fc1f039d690>   \n",
              "9       <keras.layers.convolutional.Conv2D object at 0x7fc1f03967d0>   \n",
              "10      <keras.layers.convolutional.Conv2D object at 0x7fc1f0330750>   \n",
              "11      <keras.layers.pooling.MaxPooling2D object at 0x7fc1f03a9690>   \n",
              "12      <keras.layers.convolutional.Conv2D object at 0x7fc1f0338510>   \n",
              "13      <keras.layers.convolutional.Conv2D object at 0x7fc1f0341110>   \n",
              "14      <keras.layers.convolutional.Conv2D object at 0x7fc1f0345ed0>   \n",
              "15      <keras.layers.pooling.MaxPooling2D object at 0x7fc1f0333d90>   \n",
              "16      <keras.layers.convolutional.Conv2D object at 0x7fc1f034d290>   \n",
              "17      <keras.layers.convolutional.Conv2D object at 0x7fc1f0354e50>   \n",
              "18      <keras.layers.convolutional.Conv2D object at 0x7fc202da9c90>   \n",
              "19      <keras.layers.pooling.MaxPooling2D object at 0x7fc1f035f7d0>   \n",
              "20      <keras.layers.core.flatten.Flatten object at 0x7fc282b64490>   \n",
              "\n",
              "            Name  Trainable?  \n",
              "0        input_1       False  \n",
              "1         lambda       False  \n",
              "2   block1_conv1       False  \n",
              "3   block1_conv2       False  \n",
              "4    block1_pool       False  \n",
              "5   block2_conv1       False  \n",
              "6   block2_conv2       False  \n",
              "7    block2_pool       False  \n",
              "8   block3_conv1       False  \n",
              "9   block3_conv2       False  \n",
              "10  block3_conv3       False  \n",
              "11   block3_pool       False  \n",
              "12  block4_conv1        True  \n",
              "13  block4_conv2        True  \n",
              "14  block4_conv3        True  \n",
              "15   block4_pool        True  \n",
              "16  block5_conv1        True  \n",
              "17  block5_conv2        True  \n",
              "18  block5_conv3        True  \n",
              "19   block5_pool        True  \n",
              "20       flatten        True  "
            ],
            "text/html": [
              "\n",
              "  <div id=\"df-62ccbaa8-9a7c-43b2-93e5-f3ff4338daf0\">\n",
              "    <div class=\"colab-df-container\">\n",
              "      <div>\n",
              "<style scoped>\n",
              "    .dataframe tbody tr th:only-of-type {\n",
              "        vertical-align: middle;\n",
              "    }\n",
              "\n",
              "    .dataframe tbody tr th {\n",
              "        vertical-align: top;\n",
              "    }\n",
              "\n",
              "    .dataframe thead th {\n",
              "        text-align: right;\n",
              "    }\n",
              "</style>\n",
              "<table border=\"1\" class=\"dataframe\">\n",
              "  <thead>\n",
              "    <tr style=\"text-align: right;\">\n",
              "      <th></th>\n",
              "      <th>Layer type</th>\n",
              "      <th>Name</th>\n",
              "      <th>Trainable?</th>\n",
              "    </tr>\n",
              "  </thead>\n",
              "  <tbody>\n",
              "    <tr>\n",
              "      <th>0</th>\n",
              "      <td>&lt;keras.engine.input_layer.InputLayer object at 0x7fc201958b50&gt;</td>\n",
              "      <td>input_1</td>\n",
              "      <td>False</td>\n",
              "    </tr>\n",
              "    <tr>\n",
              "      <th>1</th>\n",
              "      <td>&lt;keras.layers.core.lambda_layer.Lambda object at 0x7fc201973150&gt;</td>\n",
              "      <td>lambda</td>\n",
              "      <td>False</td>\n",
              "    </tr>\n",
              "    <tr>\n",
              "      <th>2</th>\n",
              "      <td>&lt;keras.layers.convolutional.Conv2D object at 0x7fc2849ed550&gt;</td>\n",
              "      <td>block1_conv1</td>\n",
              "      <td>False</td>\n",
              "    </tr>\n",
              "    <tr>\n",
              "      <th>3</th>\n",
              "      <td>&lt;keras.layers.convolutional.Conv2D object at 0x7fc201921ad0&gt;</td>\n",
              "      <td>block1_conv2</td>\n",
              "      <td>False</td>\n",
              "    </tr>\n",
              "    <tr>\n",
              "      <th>4</th>\n",
              "      <td>&lt;keras.layers.pooling.MaxPooling2D object at 0x7fc201085850&gt;</td>\n",
              "      <td>block1_pool</td>\n",
              "      <td>False</td>\n",
              "    </tr>\n",
              "    <tr>\n",
              "      <th>5</th>\n",
              "      <td>&lt;keras.layers.convolutional.Conv2D object at 0x7fc1f0398250&gt;</td>\n",
              "      <td>block2_conv1</td>\n",
              "      <td>False</td>\n",
              "    </tr>\n",
              "    <tr>\n",
              "      <th>6</th>\n",
              "      <td>&lt;keras.layers.convolutional.Conv2D object at 0x7fc204eb8b50&gt;</td>\n",
              "      <td>block2_conv2</td>\n",
              "      <td>False</td>\n",
              "    </tr>\n",
              "    <tr>\n",
              "      <th>7</th>\n",
              "      <td>&lt;keras.layers.pooling.MaxPooling2D object at 0x7fc1f03a1a50&gt;</td>\n",
              "      <td>block2_pool</td>\n",
              "      <td>False</td>\n",
              "    </tr>\n",
              "    <tr>\n",
              "      <th>8</th>\n",
              "      <td>&lt;keras.layers.convolutional.Conv2D object at 0x7fc1f039d690&gt;</td>\n",
              "      <td>block3_conv1</td>\n",
              "      <td>False</td>\n",
              "    </tr>\n",
              "    <tr>\n",
              "      <th>9</th>\n",
              "      <td>&lt;keras.layers.convolutional.Conv2D object at 0x7fc1f03967d0&gt;</td>\n",
              "      <td>block3_conv2</td>\n",
              "      <td>False</td>\n",
              "    </tr>\n",
              "    <tr>\n",
              "      <th>10</th>\n",
              "      <td>&lt;keras.layers.convolutional.Conv2D object at 0x7fc1f0330750&gt;</td>\n",
              "      <td>block3_conv3</td>\n",
              "      <td>False</td>\n",
              "    </tr>\n",
              "    <tr>\n",
              "      <th>11</th>\n",
              "      <td>&lt;keras.layers.pooling.MaxPooling2D object at 0x7fc1f03a9690&gt;</td>\n",
              "      <td>block3_pool</td>\n",
              "      <td>False</td>\n",
              "    </tr>\n",
              "    <tr>\n",
              "      <th>12</th>\n",
              "      <td>&lt;keras.layers.convolutional.Conv2D object at 0x7fc1f0338510&gt;</td>\n",
              "      <td>block4_conv1</td>\n",
              "      <td>True</td>\n",
              "    </tr>\n",
              "    <tr>\n",
              "      <th>13</th>\n",
              "      <td>&lt;keras.layers.convolutional.Conv2D object at 0x7fc1f0341110&gt;</td>\n",
              "      <td>block4_conv2</td>\n",
              "      <td>True</td>\n",
              "    </tr>\n",
              "    <tr>\n",
              "      <th>14</th>\n",
              "      <td>&lt;keras.layers.convolutional.Conv2D object at 0x7fc1f0345ed0&gt;</td>\n",
              "      <td>block4_conv3</td>\n",
              "      <td>True</td>\n",
              "    </tr>\n",
              "    <tr>\n",
              "      <th>15</th>\n",
              "      <td>&lt;keras.layers.pooling.MaxPooling2D object at 0x7fc1f0333d90&gt;</td>\n",
              "      <td>block4_pool</td>\n",
              "      <td>True</td>\n",
              "    </tr>\n",
              "    <tr>\n",
              "      <th>16</th>\n",
              "      <td>&lt;keras.layers.convolutional.Conv2D object at 0x7fc1f034d290&gt;</td>\n",
              "      <td>block5_conv1</td>\n",
              "      <td>True</td>\n",
              "    </tr>\n",
              "    <tr>\n",
              "      <th>17</th>\n",
              "      <td>&lt;keras.layers.convolutional.Conv2D object at 0x7fc1f0354e50&gt;</td>\n",
              "      <td>block5_conv2</td>\n",
              "      <td>True</td>\n",
              "    </tr>\n",
              "    <tr>\n",
              "      <th>18</th>\n",
              "      <td>&lt;keras.layers.convolutional.Conv2D object at 0x7fc202da9c90&gt;</td>\n",
              "      <td>block5_conv3</td>\n",
              "      <td>True</td>\n",
              "    </tr>\n",
              "    <tr>\n",
              "      <th>19</th>\n",
              "      <td>&lt;keras.layers.pooling.MaxPooling2D object at 0x7fc1f035f7d0&gt;</td>\n",
              "      <td>block5_pool</td>\n",
              "      <td>True</td>\n",
              "    </tr>\n",
              "    <tr>\n",
              "      <th>20</th>\n",
              "      <td>&lt;keras.layers.core.flatten.Flatten object at 0x7fc282b64490&gt;</td>\n",
              "      <td>flatten</td>\n",
              "      <td>True</td>\n",
              "    </tr>\n",
              "  </tbody>\n",
              "</table>\n",
              "</div>\n",
              "      <button class=\"colab-df-convert\" onclick=\"convertToInteractive('df-62ccbaa8-9a7c-43b2-93e5-f3ff4338daf0')\"\n",
              "              title=\"Convert this dataframe to an interactive table.\"\n",
              "              style=\"display:none;\">\n",
              "        \n",
              "  <svg xmlns=\"http://www.w3.org/2000/svg\" height=\"24px\"viewBox=\"0 0 24 24\"\n",
              "       width=\"24px\">\n",
              "    <path d=\"M0 0h24v24H0V0z\" fill=\"none\"/>\n",
              "    <path d=\"M18.56 5.44l.94 2.06.94-2.06 2.06-.94-2.06-.94-.94-2.06-.94 2.06-2.06.94zm-11 1L8.5 8.5l.94-2.06 2.06-.94-2.06-.94L8.5 2.5l-.94 2.06-2.06.94zm10 10l.94 2.06.94-2.06 2.06-.94-2.06-.94-.94-2.06-.94 2.06-2.06.94z\"/><path d=\"M17.41 7.96l-1.37-1.37c-.4-.4-.92-.59-1.43-.59-.52 0-1.04.2-1.43.59L10.3 9.45l-7.72 7.72c-.78.78-.78 2.05 0 2.83L4 21.41c.39.39.9.59 1.41.59.51 0 1.02-.2 1.41-.59l7.78-7.78 2.81-2.81c.8-.78.8-2.07 0-2.86zM5.41 20L4 18.59l7.72-7.72 1.47 1.35L5.41 20z\"/>\n",
              "  </svg>\n",
              "      </button>\n",
              "      \n",
              "  <style>\n",
              "    .colab-df-container {\n",
              "      display:flex;\n",
              "      flex-wrap:wrap;\n",
              "      gap: 12px;\n",
              "    }\n",
              "\n",
              "    .colab-df-convert {\n",
              "      background-color: #E8F0FE;\n",
              "      border: none;\n",
              "      border-radius: 50%;\n",
              "      cursor: pointer;\n",
              "      display: none;\n",
              "      fill: #1967D2;\n",
              "      height: 32px;\n",
              "      padding: 0 0 0 0;\n",
              "      width: 32px;\n",
              "    }\n",
              "\n",
              "    .colab-df-convert:hover {\n",
              "      background-color: #E2EBFA;\n",
              "      box-shadow: 0px 1px 2px rgba(60, 64, 67, 0.3), 0px 1px 3px 1px rgba(60, 64, 67, 0.15);\n",
              "      fill: #174EA6;\n",
              "    }\n",
              "\n",
              "    [theme=dark] .colab-df-convert {\n",
              "      background-color: #3B4455;\n",
              "      fill: #D2E3FC;\n",
              "    }\n",
              "\n",
              "    [theme=dark] .colab-df-convert:hover {\n",
              "      background-color: #434B5C;\n",
              "      box-shadow: 0px 1px 3px 1px rgba(0, 0, 0, 0.15);\n",
              "      filter: drop-shadow(0px 1px 2px rgba(0, 0, 0, 0.3));\n",
              "      fill: #FFFFFF;\n",
              "    }\n",
              "  </style>\n",
              "\n",
              "      <script>\n",
              "        const buttonEl =\n",
              "          document.querySelector('#df-62ccbaa8-9a7c-43b2-93e5-f3ff4338daf0 button.colab-df-convert');\n",
              "        buttonEl.style.display =\n",
              "          google.colab.kernel.accessAllowed ? 'block' : 'none';\n",
              "\n",
              "        async function convertToInteractive(key) {\n",
              "          const element = document.querySelector('#df-62ccbaa8-9a7c-43b2-93e5-f3ff4338daf0');\n",
              "          const dataTable =\n",
              "            await google.colab.kernel.invokeFunction('convertToInteractive',\n",
              "                                                     [key], {});\n",
              "          if (!dataTable) return;\n",
              "\n",
              "          const docLinkHtml = 'Like what you see? Visit the ' +\n",
              "            '<a target=\"_blank\" href=https://colab.research.google.com/notebooks/data_table.ipynb>data table notebook</a>'\n",
              "            + ' to learn more about interactive tables.';\n",
              "          element.innerHTML = '';\n",
              "          dataTable['output_type'] = 'display_data';\n",
              "          await google.colab.output.renderOutput(dataTable, element);\n",
              "          const docLink = document.createElement('div');\n",
              "          docLink.innerHTML = docLinkHtml;\n",
              "          element.appendChild(docLink);\n",
              "        }\n",
              "      </script>\n",
              "    </div>\n",
              "  </div>\n",
              "  "
            ]
          },
          "metadata": {},
          "execution_count": 11
        }
      ]
    },
    {
      "cell_type": "code",
      "source": [
        "cifar10 = ks.datasets.cifar10\n",
        "\n",
        "(x_train, y_train), (x_test, y_test) = cifar10.load_data()\n",
        "\n",
        "x_train_scaled, x_test_scaled = x_train / 255.0, x_test / 255.0"
      ],
      "metadata": {
        "id": "NGhHson7wNFN",
        "colab": {
          "base_uri": "https://localhost:8080/"
        },
        "outputId": "9d59bc85-aacf-4a18-b061-736d8e0c673a"
      },
      "execution_count": 12,
      "outputs": [
        {
          "output_type": "stream",
          "name": "stdout",
          "text": [
            "Downloading data from https://www.cs.toronto.edu/~kriz/cifar-10-python.tar.gz\n",
            "170500096/170498071 [==============================] - 11s 0us/step\n",
            "170508288/170498071 [==============================] - 11s 0us/step\n"
          ]
        }
      ]
    },
    {
      "cell_type": "code",
      "source": [
        "y_train = y_train.ravel()\n",
        "y_test = y_test.ravel()"
      ],
      "metadata": {
        "id": "RvFxw61aUQJt"
      },
      "execution_count": 13,
      "outputs": []
    },
    {
      "cell_type": "code",
      "source": [
        "x_val_scaled = x_train_scaled[-10000:]\n",
        "y_val = y_train[-10000:]\n",
        "\n",
        "x_train_scaled = x_train_scaled[:-10000]\n",
        "y_train_scaled = y_train[:-10000]"
      ],
      "metadata": {
        "id": "KETsD6uhUQyq"
      },
      "execution_count": 14,
      "outputs": []
    },
    {
      "cell_type": "code",
      "source": [
        "x_val = x_train[-10000:]\n",
        "x_train = x_train[:-10000]\n",
        "y_train = y_train[:-10000]"
      ],
      "metadata": {
        "id": "C443pVXqUbjY"
      },
      "execution_count": 15,
      "outputs": []
    },
    {
      "cell_type": "code",
      "source": [
        "#Validación\n",
        "print('Train: X=%s, y=%s' % (x_train_scaled.shape, y_train_scaled.shape))\n",
        "print('Test: X=%s, y=%s' % (x_test_scaled.shape, y_test.shape))\n",
        "print('Validation: X=%s, y=%s' % (x_val_scaled.shape, y_val.shape))"
      ],
      "metadata": {
        "colab": {
          "base_uri": "https://localhost:8080/"
        },
        "id": "1bwJ4hR8UcKL",
        "outputId": "b3810e8c-d95f-449c-8124-e2b7296e6044"
      },
      "execution_count": 16,
      "outputs": [
        {
          "output_type": "stream",
          "name": "stdout",
          "text": [
            "Train: X=(40000, 32, 32, 3), y=(40000,)\n",
            "Test: X=(10000, 32, 32, 3), y=(10000,)\n",
            "Validation: X=(10000, 32, 32, 3), y=(10000,)\n"
          ]
        }
      ]
    },
    {
      "cell_type": "markdown",
      "metadata": {
        "id": "6_dptlpJ9oJp"
      },
      "source": [
        "## 2. Arquitectura de red del modelo + capa VGG - Proyecto 9\n",
        "\n",
        "\n"
      ]
    },
    {
      "cell_type": "code",
      "source": [
        "output_from_vgg16 = 25088"
      ],
      "metadata": {
        "id": "69P1ZzALU-zk"
      },
      "execution_count": 17,
      "outputs": []
    },
    {
      "cell_type": "code",
      "source": [
        "model_with_vgg = ks.Sequential()\n",
        "\n",
        "\n",
        "model_with_vgg.add(vgg_model)\n",
        "\n",
        "model_with_vgg.add(ks.layers.Dense(512, activation='relu',input_shape=(output_from_vgg16, )))\n",
        "model_with_vgg.add(ks.layers.Dropout(0.3))\n",
        "model_with_vgg.add(ks.layers.Dense(512, activation='relu'))\n",
        "model_with_vgg.add(ks.layers.Dropout(0.3))\n",
        "model_with_vgg.add(ks.layers.Dense(10, activation='softmax'))\n",
        "\n",
        "model_with_vgg.summary()"
      ],
      "metadata": {
        "colab": {
          "base_uri": "https://localhost:8080/"
        },
        "id": "Q8J-crGsVCvr",
        "outputId": "9a4150b9-e84d-4421-bf05-c048af33e9ec"
      },
      "execution_count": 18,
      "outputs": [
        {
          "output_type": "stream",
          "name": "stdout",
          "text": [
            "Model: \"sequential\"\n",
            "_________________________________________________________________\n",
            " Layer (type)                Output Shape              Param #   \n",
            "=================================================================\n",
            " model (Functional)          (None, 25088)             14714688  \n",
            "                                                                 \n",
            " dense (Dense)               (None, 512)               12845568  \n",
            "                                                                 \n",
            " dropout (Dropout)           (None, 512)               0         \n",
            "                                                                 \n",
            " dense_1 (Dense)             (None, 512)               262656    \n",
            "                                                                 \n",
            " dropout_1 (Dropout)         (None, 512)               0         \n",
            "                                                                 \n",
            " dense_2 (Dense)             (None, 10)                5130      \n",
            "                                                                 \n",
            "=================================================================\n",
            "Total params: 27,828,042\n",
            "Trainable params: 26,092,554\n",
            "Non-trainable params: 1,735,488\n",
            "_________________________________________________________________\n"
          ]
        }
      ]
    },
    {
      "cell_type": "code",
      "source": [
        "from tensorflow.keras.optimizers import Adam"
      ],
      "metadata": {
        "id": "O7RoagyZVXZ8"
      },
      "execution_count": 19,
      "outputs": []
    },
    {
      "cell_type": "code",
      "source": [
        "new_adam = Adam(learning_rate=2e-5)"
      ],
      "metadata": {
        "id": "yPlTNPXBVcuk"
      },
      "execution_count": 20,
      "outputs": []
    },
    {
      "cell_type": "code",
      "source": [
        "model_with_vgg.compile(loss='sparse_categorical_crossentropy', optimizer=new_adam, metrics=['accuracy'])"
      ],
      "metadata": {
        "id": "_OEC8BOrVgda"
      },
      "execution_count": 21,
      "outputs": []
    },
    {
      "cell_type": "markdown",
      "metadata": {
        "id": "rhpzEhLy9oJq"
      },
      "source": [
        "Para revisar un modelo, nos basta con llamar al método **.summary()** del modelo"
      ]
    },
    {
      "cell_type": "code",
      "execution_count": 22,
      "metadata": {
        "id": "QPzKurY89oJq",
        "colab": {
          "base_uri": "https://localhost:8080/"
        },
        "outputId": "ee1d463e-f0da-4c0e-fa82-9595ec159014"
      },
      "outputs": [
        {
          "output_type": "stream",
          "name": "stdout",
          "text": [
            "Model: \"vgg16\"\n",
            "_________________________________________________________________\n",
            " Layer (type)                Output Shape              Param #   \n",
            "=================================================================\n",
            " input_1 (InputLayer)        [(None, 32, 32, 3)]       0         \n",
            "                                                                 \n",
            " lambda (Lambda)             (None, 224, 224, 3)       0         \n",
            "                                                                 \n",
            " block1_conv1 (Conv2D)       (None, 224, 224, 64)      1792      \n",
            "                                                                 \n",
            " block1_conv2 (Conv2D)       (None, 224, 224, 64)      36928     \n",
            "                                                                 \n",
            " block1_pool (MaxPooling2D)  (None, 112, 112, 64)      0         \n",
            "                                                                 \n",
            " block2_conv1 (Conv2D)       (None, 112, 112, 128)     73856     \n",
            "                                                                 \n",
            " block2_conv2 (Conv2D)       (None, 112, 112, 128)     147584    \n",
            "                                                                 \n",
            " block2_pool (MaxPooling2D)  (None, 56, 56, 128)       0         \n",
            "                                                                 \n",
            " block3_conv1 (Conv2D)       (None, 56, 56, 256)       295168    \n",
            "                                                                 \n",
            " block3_conv2 (Conv2D)       (None, 56, 56, 256)       590080    \n",
            "                                                                 \n",
            " block3_conv3 (Conv2D)       (None, 56, 56, 256)       590080    \n",
            "                                                                 \n",
            " block3_pool (MaxPooling2D)  (None, 28, 28, 256)       0         \n",
            "                                                                 \n",
            " block4_conv1 (Conv2D)       (None, 28, 28, 512)       1180160   \n",
            "                                                                 \n",
            " block4_conv2 (Conv2D)       (None, 28, 28, 512)       2359808   \n",
            "                                                                 \n",
            " block4_conv3 (Conv2D)       (None, 28, 28, 512)       2359808   \n",
            "                                                                 \n",
            " block4_pool (MaxPooling2D)  (None, 14, 14, 512)       0         \n",
            "                                                                 \n",
            " block5_conv1 (Conv2D)       (None, 14, 14, 512)       2359808   \n",
            "                                                                 \n",
            " block5_conv2 (Conv2D)       (None, 14, 14, 512)       2359808   \n",
            "                                                                 \n",
            " block5_conv3 (Conv2D)       (None, 14, 14, 512)       2359808   \n",
            "                                                                 \n",
            " block5_pool (MaxPooling2D)  (None, 7, 7, 512)         0         \n",
            "                                                                 \n",
            "=================================================================\n",
            "Total params: 14,714,688\n",
            "Trainable params: 12,979,200\n",
            "Non-trainable params: 1,735,488\n",
            "_________________________________________________________________\n"
          ]
        }
      ],
      "source": [
        "vgg.summary()"
      ]
    },
    {
      "cell_type": "markdown",
      "metadata": {
        "id": "Y6bEaf7l9oJq"
      },
      "source": [
        "## 3. Optimizador, función error\n"
      ]
    },
    {
      "cell_type": "code",
      "execution_count": 23,
      "metadata": {
        "id": "eDfwXObn9oJr"
      },
      "outputs": [],
      "source": [
        "vgg.compile(optimizer='Adam',\n",
        "              loss='sparse_categorical_crossentropy',\n",
        "              metrics=['accuracy'])"
      ]
    },
    {
      "cell_type": "markdown",
      "metadata": {
        "id": "qHBg7wfE9oJr"
      },
      "source": [
        "## 4. Preparamos los datos\n",
        "\n",
        "Cargamos los datos de CIFAR10 de los datasets directamente de las librerias de Keras. Estos ya estan dispuestos en train and test\n",
        "\n",
        "**Detalle importante:** \n",
        "> La red neuronal requiere que los inputs sean números reales, y lo haremos forzando la division de los valores de dentro de las matrices 28x28 (que tienen valoress del 0 al 255) por 255.0 (un real)"
      ]
    },
    {
      "cell_type": "code",
      "execution_count": 24,
      "metadata": {
        "id": "9mZWEbQc9oJr"
      },
      "outputs": [],
      "source": [
        "cifar10 = ks.datasets.cifar10\n",
        "\n",
        "(x_train, y_train), (x_test, y_test) = cifar10.load_data()\n",
        "\n",
        "x_train_scaled, x_test_scaled = x_train / 255.0, x_test / 255.0\n"
      ]
    },
    {
      "cell_type": "code",
      "execution_count": 25,
      "metadata": {
        "id": "j8A9za5z9oJr",
        "colab": {
          "base_uri": "https://localhost:8080/"
        },
        "outputId": "bcc4448e-a145-4f5e-ada9-6de0dcdc28a6"
      },
      "outputs": [
        {
          "output_type": "execute_result",
          "data": {
            "text/plain": [
              "array([[6],\n",
              "       [9],\n",
              "       [9],\n",
              "       ...,\n",
              "       [9],\n",
              "       [1],\n",
              "       [1]], dtype=uint8)"
            ]
          },
          "metadata": {},
          "execution_count": 25
        }
      ],
      "source": [
        "y_train_label = y_train\n",
        "\n",
        "y_test\n",
        "y_train"
      ]
    },
    {
      "cell_type": "markdown",
      "metadata": {
        "id": "bQf1GueY9oJs"
      },
      "source": [
        "Obtenemos un array con todas las labels de CIFAR10"
      ]
    },
    {
      "cell_type": "code",
      "execution_count": 26,
      "metadata": {
        "id": "EJR1ydE99oJs",
        "colab": {
          "base_uri": "https://localhost:8080/"
        },
        "outputId": "f14969df-0b36-4642-8269-f31caf7878ad"
      },
      "outputs": [
        {
          "output_type": "stream",
          "name": "stdout",
          "text": [
            "Number of labels: 10\n"
          ]
        }
      ],
      "source": [
        "cifar10_labels = [\n",
        "'airplane', # id 0\n",
        "'automobile',\n",
        "'bird',\n",
        "'cat',\n",
        "'deer',\n",
        "'dog',\n",
        "'frog',\n",
        "'horse',\n",
        "'ship',\n",
        "'truck'\n",
        "]\n",
        "\n",
        "print('Number of labels: %s' % len(cifar10_labels))"
      ]
    },
    {
      "cell_type": "markdown",
      "metadata": {
        "id": "61GhgQs49oJs"
      },
      "source": [
        "Pintemos una muestra de las imagenes del dataset CIFAR10, a ver si se parece en algo a lo que esperamos.\n",
        "Primero, vemos que tipos de datos tengo, después mapeamos esas matrices en una escala de grises utilizando el método **.get_cmap()** de PlotLy con los nueve primeros números del dataset."
      ]
    },
    {
      "cell_type": "code",
      "execution_count": 27,
      "metadata": {
        "id": "9-Dk8dgQ9oJs",
        "colab": {
          "base_uri": "https://localhost:8080/",
          "height": 316
        },
        "outputId": "48a1d734-da85-476e-9390-ba4fe4128281"
      },
      "outputs": [
        {
          "output_type": "stream",
          "name": "stdout",
          "text": [
            "Train: X=(50000, 32, 32, 3), y=(50000, 1)\n",
            "Test: X=(10000, 32, 32, 3), y=(10000, 1)\n"
          ]
        },
        {
          "output_type": "display_data",
          "data": {
            "text/plain": [
              "<Figure size 432x288 with 9 Axes>"
            ],
            "image/png": "[encoded data removed]"
          },
          "metadata": {
            "needs_background": "light"
          }
        }
      ],
      "source": [
        "# Pintemos una muestra de las las imagenes del dataset MNIST\n",
        "\n",
        "print('Train: X=%s, y=%s' % (x_train.shape, y_train.shape))\n",
        "print('Test: X=%s, y=%s' % (x_test.shape, y_test.shape))\n",
        "\n",
        "for i in range(9):\n",
        "\n",
        "    plt.subplot(330 + 1 + i)\n",
        "    plt.imshow(x_train[i], cmap=plt.get_cmap('gray'))\n",
        "    plt.title(cifar10_labels[y_train_label[i,0]])\n",
        "\n",
        "plt.subplots_adjust(hspace = 1)\n",
        "plt.show()"
      ]
    },
    {
      "cell_type": "markdown",
      "metadata": {
        "id": "WRm5syYA9oJt"
      },
      "source": [
        "Como vamos a querer ir haciendo validación a la vez que entrenamos (muy practico)"
      ]
    },
    {
      "cell_type": "code",
      "execution_count": 28,
      "metadata": {
        "id": "ll_ESZXN9oJt"
      },
      "outputs": [],
      "source": [
        "x_val_scaled = x_train_scaled[-10000:]\n",
        "y_val = y_train[-10000:]\n",
        "\n",
        "x_train_scaled = x_train_scaled[:-10000]\n",
        "y_train = y_train[:-10000]\n"
      ]
    },
    {
      "cell_type": "markdown",
      "metadata": {
        "id": "857gyhgz9oJt"
      },
      "source": [
        "Cuando añadimos convoluciones, necesitamos \"pre-tratar los datos\", porque **la convolución espera una matriz de 4 campos** (más parecido a \"imagenes\"), en el caso de MNIST. CIFAR10 ya tiene el shape adecuado, así que no tenemos que hacer nada, pero como siempre decimos: es mejor que comprobeis su tamaño.\n",
        "\n",
        "Por eso, al salir de la Convolution, hay que hacer un Flatten, porque las capas FullDense esperan arrays, no matrices!!\n",
        "\n",
        "Luego lo imprimimos para ver que todo está correcto"
      ]
    },
    {
      "cell_type": "code",
      "execution_count": 29,
      "metadata": {
        "id": "GsD9N7Jf9oJt",
        "colab": {
          "base_uri": "https://localhost:8080/"
        },
        "outputId": "fc762189-7628-4bbf-cb76-16a567eb88ee"
      },
      "outputs": [
        {
          "output_type": "stream",
          "name": "stdout",
          "text": [
            "Train: X=(40000, 32, 32, 3), y=(40000, 1)\n",
            "Test: X=(10000, 32, 32, 3), y=(10000, 1)\n",
            "Validation: X=(10000, 32, 32, 3), y=(10000, 1)\n"
          ]
        }
      ],
      "source": [
        "# Validamos el resultado\n",
        "print('Train: X=%s, y=%s' % (x_train_scaled.shape, y_train.shape))\n",
        "print('Test: X=%s, y=%s' % (x_test_scaled.shape, y_test.shape))\n",
        "print('Validation: X=%s, y=%s' % (x_val_scaled.shape, y_val.shape))"
      ]
    },
    {
      "cell_type": "markdown",
      "source": [
        "**Callbacks**"
      ],
      "metadata": {
        "id": "0hXK38eGZOSR"
      }
    },
    {
      "cell_type": "code",
      "source": [
        "# Callback con EarlyStopping basado en Accuracy\n",
        "callback_accuracy = EarlyStopping(monitor='val_accuracy', patience=5)\n",
        "\n",
        "# Callback con EarlyStopping basad0 en Loss\n",
        "callback_loss = EarlyStopping(monitor='val_loss', patience=5)"
      ],
      "metadata": {
        "id": "p5v9KpCZZPos"
      },
      "execution_count": 30,
      "outputs": []
    },
    {
      "cell_type": "markdown",
      "source": [
        "**Modelo checkpoint**"
      ],
      "metadata": {
        "id": "aw_ClisoVy7S"
      }
    },
    {
      "cell_type": "code",
      "source": [
        "from tensorflow.keras.callbacks import ModelCheckpoint\n"
      ],
      "metadata": {
        "id": "GI58dYjJV2JN"
      },
      "execution_count": 31,
      "outputs": []
    },
    {
      "cell_type": "code",
      "source": [
        "callback_earlystopping = EarlyStopping(monitor='val_loss', patience=5)"
      ],
      "metadata": {
        "id": "3AG6w-bbXTRZ"
      },
      "execution_count": 32,
      "outputs": []
    },
    {
      "cell_type": "code",
      "source": [
        "callback_modelcheckpoint = ModelCheckpoint('/tmp/modelchk', monitor='val_accuracy', \n",
        "                                           verbose=1, save_best_only=True, \n",
        "                                           save_weights_only=True)"
      ],
      "metadata": {
        "id": "9LufvlAUV55j"
      },
      "execution_count": 33,
      "outputs": []
    },
    {
      "cell_type": "markdown",
      "metadata": {
        "id": "x4CSQVcD9oJu"
      },
      "source": [
        "## 5. Entrenamiento\n",
        "\n",
        "Ya podemos ponernos a entrenar el modelo!! Ojo, que hemos de entrenar contra los datos convertidos al formato que espera la Convolution.\n",
        "\n",
        "Empezaremos con 30 epocs, es decir, 30 pasadas completas del dataset (que a su vez sera con mini-batches internamente), fijando un batch de 64\n",
        "\n",
        "El metodo .fit() nos permite, definir además si disponemos de varias CPUs, GPUs, y si queremos ir validando datos a cada fin de epoch."
      ]
    },
    {
      "cell_type": "code",
      "execution_count": 34,
      "metadata": {
        "id": "WVDxMUFK9oJu",
        "colab": {
          "base_uri": "https://localhost:8080/"
        },
        "outputId": "1f27a883-a573-4eb8-d325-715202cb537a"
      },
      "outputs": [
        {
          "output_type": "stream",
          "name": "stdout",
          "text": [
            "Epoch 1/20\n",
            "1250/1250 [==============================] - ETA: 0s - loss: 0.9989 - accuracy: 0.6521\n",
            "Epoch 1: val_accuracy improved from -inf to 0.81260, saving model to /tmp/modelchk\n",
            "1250/1250 [==============================] - 619s 483ms/step - loss: 0.9989 - accuracy: 0.6521 - val_loss: 0.5373 - val_accuracy: 0.8126\n",
            "Epoch 2/20\n",
            "1250/1250 [==============================] - ETA: 0s - loss: 0.5105 - accuracy: 0.8257\n",
            "Epoch 2: val_accuracy improved from 0.81260 to 0.82960, saving model to /tmp/modelchk\n",
            "1250/1250 [==============================] - 603s 482ms/step - loss: 0.5105 - accuracy: 0.8257 - val_loss: 0.4985 - val_accuracy: 0.8296\n",
            "Epoch 3/20\n",
            "1250/1250 [==============================] - ETA: 0s - loss: 0.3497 - accuracy: 0.8809\n",
            "Epoch 3: val_accuracy improved from 0.82960 to 0.87250, saving model to /tmp/modelchk\n",
            "1250/1250 [==============================] - 603s 482ms/step - loss: 0.3497 - accuracy: 0.8809 - val_loss: 0.3715 - val_accuracy: 0.8725\n",
            "Epoch 4/20\n",
            "1250/1250 [==============================] - ETA: 0s - loss: 0.2577 - accuracy: 0.9125\n",
            "Epoch 4: val_accuracy improved from 0.87250 to 0.88860, saving model to /tmp/modelchk\n",
            "1250/1250 [==============================] - 603s 483ms/step - loss: 0.2577 - accuracy: 0.9125 - val_loss: 0.3346 - val_accuracy: 0.8886\n",
            "Epoch 5/20\n",
            "1250/1250 [==============================] - ETA: 0s - loss: 0.1774 - accuracy: 0.9397\n",
            "Epoch 5: val_accuracy improved from 0.88860 to 0.89540, saving model to /tmp/modelchk\n",
            "1250/1250 [==============================] - 603s 482ms/step - loss: 0.1774 - accuracy: 0.9397 - val_loss: 0.3525 - val_accuracy: 0.8954\n",
            "Epoch 6/20\n",
            "1250/1250 [==============================] - ETA: 0s - loss: 0.1296 - accuracy: 0.9556\n",
            "Epoch 6: val_accuracy did not improve from 0.89540\n",
            "1250/1250 [==============================] - 601s 481ms/step - loss: 0.1296 - accuracy: 0.9556 - val_loss: 0.3418 - val_accuracy: 0.8936\n",
            "Epoch 7/20\n",
            "1250/1250 [==============================] - ETA: 0s - loss: 0.0938 - accuracy: 0.9684\n",
            "Epoch 7: val_accuracy did not improve from 0.89540\n",
            "1250/1250 [==============================] - 602s 482ms/step - loss: 0.0938 - accuracy: 0.9684 - val_loss: 0.3709 - val_accuracy: 0.8923\n",
            "Epoch 8/20\n",
            "1250/1250 [==============================] - ETA: 0s - loss: 0.0696 - accuracy: 0.9768\n",
            "Epoch 8: val_accuracy did not improve from 0.89540\n",
            "1250/1250 [==============================] - 602s 481ms/step - loss: 0.0696 - accuracy: 0.9768 - val_loss: 0.4276 - val_accuracy: 0.8808\n",
            "Epoch 9/20\n",
            "1250/1250 [==============================] - ETA: 0s - loss: 0.0610 - accuracy: 0.9796\n",
            "Epoch 9: val_accuracy did not improve from 0.89540\n",
            "1250/1250 [==============================] - 602s 481ms/step - loss: 0.0610 - accuracy: 0.9796 - val_loss: 0.4485 - val_accuracy: 0.8824\n"
          ]
        }
      ],
      "source": [
        "history = model_with_vgg.fit(x=x_train_scaled, y=y_train, batch_size=32,\n",
        "                             epochs=20, callbacks=[callback_modelcheckpoint, callback_earlystopping], \n",
        "                             validation_data=(x_val_scaled, y_val))"
      ]
    },
    {
      "cell_type": "markdown",
      "metadata": {
        "id": "n6Byf3JG9oJu"
      },
      "source": [
        "## 6. Evaluamos los resultados\n",
        "\n",
        "Obtengamos una grafica de como el error y la accuracy van evolucionando en cada epoch en los datos de entrenamiento y en la validación"
      ]
    },
    {
      "cell_type": "code",
      "execution_count": 35,
      "metadata": {
        "id": "j9IaZ3-W9oJv",
        "colab": {
          "base_uri": "https://localhost:8080/"
        },
        "outputId": "25f89409-289e-438e-cb13-fca45e459f58"
      },
      "outputs": [
        {
          "output_type": "stream",
          "name": "stdout",
          "text": [
            "> 87.880\n"
          ]
        }
      ],
      "source": [
        "_, acc = model_with_vgg.evaluate(x_test_scaled, y_test, verbose=0)\n",
        "print('> %.3f' % (acc * 100.0))"
      ]
    },
    {
      "cell_type": "code",
      "execution_count": 36,
      "metadata": {
        "id": "GrH8OFmF9oJv",
        "colab": {
          "base_uri": "https://localhost:8080/",
          "height": 545
        },
        "outputId": "f7021745-e84f-45fb-baa3-b1becfbc0ee4"
      },
      "outputs": [
        {
          "output_type": "display_data",
          "data": {
            "text/plain": [
              "<Figure size 432x288 with 1 Axes>"
            ],
            "image/png": "[encoded data removed]"
          },
          "metadata": {
            "needs_background": "light"
          }
        },
        {
          "output_type": "display_data",
          "data": {
            "text/plain": [
              "<Figure size 432x288 with 1 Axes>"
            ],
            "image/png": "[encoded data removed]"
          },
          "metadata": {
            "needs_background": "light"
          }
        }
      ],
      "source": [
        "plt.title('Cross Entropy Loss')\n",
        "plt.plot(history.history['loss'], color='blue', label='train')\n",
        "plt.plot(history.history['val_loss'], color='orange', label='val')\n",
        "plt.legend()\n",
        "plt.show()\n",
        "\n",
        "plt.title('Classification Accuracy')\n",
        "plt.plot(history.history['accuracy'], color='blue', label='train')\n",
        "plt.plot(history.history['val_accuracy'], color='orange', label='val')\n",
        "plt.legend()\n",
        "plt.show()"
      ]
    },
    {
      "cell_type": "markdown",
      "metadata": {
        "id": "BT7Xpz409oJv"
      },
      "source": [
        "El coste podemos ver que es estable y es en el epoch 15 que se fija en un valor. Además la accuracy baila alrededor de 0.10. No se puede decir que sea un modelo muy bueno.\n",
        "\n",
        "Veamos que tipo de predicciones estoy obteniendo sobre el conjunto de test (vamos a pintar las imagenes y sus clasificaciones)"
      ]
    },
    {
      "cell_type": "code",
      "execution_count": 37,
      "metadata": {
        "id": "G4gqi32X9oJw"
      },
      "outputs": [],
      "source": [
        "predictions = model_with_vgg.predict(x_test)"
      ]
    },
    {
      "cell_type": "markdown",
      "metadata": {
        "id": "3blmpM1k9oJw"
      },
      "source": [
        "Una de las ventajas de Python es que hay montones de funciones y código realizado por terceras personas. Aquí me he fusilado unas bonitas funciones (que he adaptado un poco a mis necesidades) para poder pintar las imagenes, su label (ground truth) y las clasificaciones que hemos realizado."
      ]
    },
    {
      "cell_type": "code",
      "execution_count": 38,
      "metadata": {
        "id": "P02wctIA9oJw"
      },
      "outputs": [],
      "source": [
        "def plot_image(i, predictions_array, true_label, img):\n",
        "  predictions_array, true_label, img = predictions_array, true_label[i], img[i]\n",
        "  plt.grid(False)\n",
        "  plt.xticks([])\n",
        "  plt.yticks([])\n",
        "\n",
        "  plt.imshow(img, cmap=plt.cm.binary)\n",
        "\n",
        "  predicted_label = np.argmax(predictions_array)\n",
        "  if predicted_label == true_label:\n",
        "    color = 'blue'\n",
        "  else:\n",
        "    color = 'red'\n",
        "\n",
        "  plt.xlabel(\"{} {:2.0f}% ({})\".format(predicted_label,\n",
        "                                100*np.max(predictions_array),\n",
        "                                true_label[0]),\n",
        "                                color=color)\n",
        "\n",
        "def plot_value_array(i, predictions_array, true_label):\n",
        "  predictions_array, true_label = predictions_array, true_label[i]\n",
        "  plt.grid(False)\n",
        "  plt.xticks(range(10))\n",
        "  plt.yticks([])\n",
        "  thisplot = plt.bar(range(10), predictions_array, color=\"#777777\")\n",
        "  plt.ylim([0, 1])\n",
        "  predicted_label = np.argmax(predictions_array)\n",
        "\n",
        "  thisplot[predicted_label].set_color('red')\n",
        "  thisplot[true_label[0]].set_color('blue')"
      ]
    },
    {
      "cell_type": "markdown",
      "metadata": {
        "id": "kCoAXQ6e9oJw"
      },
      "source": [
        "Dibujamos las primeras imagenes, con las predicciones y sus valores reales (un total de 20 imagenes, para no abusar de vuestros laptops)\n",
        "\n",
        "Coloreamos las prediciones correctas en azul y los fallos en rojo. Aunque primero he impreso las etiquetas para que tengamos una referencia al grafico."
      ]
    },
    {
      "cell_type": "code",
      "execution_count": 39,
      "metadata": {
        "id": "4jcGyOkV9oJx",
        "colab": {
          "base_uri": "https://localhost:8080/",
          "height": 903
        },
        "outputId": "988baa4f-9df0-4721-af1e-f30cef6cd8fa"
      },
      "outputs": [
        {
          "output_type": "stream",
          "name": "stdout",
          "text": [
            "0 airplane\n",
            "1 automobile\n",
            "2 bird\n",
            "3 cat\n",
            "4 deer\n",
            "5 dog\n",
            "6 frog\n",
            "7 horse\n",
            "8 ship\n",
            "9 truck\n"
          ]
        },
        {
          "output_type": "display_data",
          "data": {
            "text/plain": [
              "<Figure size 1152x720 with 40 Axes>"
            ],
            "image/png": "[encoded data removed]"
          },
          "metadata": {
            "needs_background": "light"
          }
        }
      ],
      "source": [
        "i = 0\n",
        "for l in cifar10_labels:\n",
        "    print(i, l)\n",
        "    i += 1\n",
        "\n",
        "num_rows = 5\n",
        "num_cols = 4\n",
        "start = 650\n",
        "num_images = num_rows*num_cols\n",
        "plt.figure(figsize=(2*2*num_cols, 2*num_rows))\n",
        "for i in range(num_images):\n",
        "  plt.subplot(num_rows, 2*num_cols, 2*i+1)\n",
        "  plot_image(i+start, predictions[i+start], y_test, x_test)\n",
        "  plt.subplot(num_rows, 2*num_cols, 2*i+2)\n",
        "  plot_value_array(i+start, predictions[i+start], y_test)\n",
        "plt.tight_layout()\n",
        "plt.show()"
      ]
    },
    {
      "cell_type": "markdown",
      "metadata": {
        "id": "qWT3tPd2-MOP"
      },
      "source": [
        "## 7. Guardamos el modelo para futuras evaluaciones\n",
        "\n",
        "Id cambiando los nombres del archivo para ir guardando los diversos proyectos.\n",
        "Aquí lo guardamos en \"local\", pero recordad que lo ideal es que lo guardeis en Google Drive (teneis que montar la unidad, fijar la ruta y allí guardar el modelo .h5)"
      ]
    },
    {
      "cell_type": "code",
      "execution_count": 40,
      "metadata": {
        "id": "wEaRpWif9oJx"
      },
      "outputs": [],
      "source": [
        "ruta_googledrive = \"/content/drive/MyDrive/Data Science/Deep Learning/Cifar10\" # A revisar en vuestra instancia\n",
        "\n",
        "vgg.save(ruta_googledrive+'cifar10_base_model.h5')"
      ]
    }
  ],
  "metadata": {
    "colab": {
      "name": "cnn-cifar10-tf2-v9.ipynb",
      "provenance": [],
      "collapsed_sections": [],
      "include_colab_link": true
    },
    "kernelspec": {
      "display_name": "Python 3",
      "language": "python",
      "name": "python3"
    },
    "language_info": {
      "codemirror_mode": {
        "name": "ipython",
        "version": 3
      },
      "file_extension": ".py",
      "mimetype": "text/x-python",
      "name": "python",
      "nbconvert_exporter": "python",
      "pygments_lexer": "ipython3",
      "version": "3.8.5"
    },
    "accelerator": "GPU"
  },
  "nbformat": 4,
  "nbformat_minor": 0
}